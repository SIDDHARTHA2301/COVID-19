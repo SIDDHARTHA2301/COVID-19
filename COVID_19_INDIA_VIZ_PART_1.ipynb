{
  "nbformat": 4,
  "nbformat_minor": 0,
  "metadata": {
    "colab": {
      "name": "COVID-19 INDIA VIZ PART 1.ipynb",
      "provenance": [],
      "authorship_tag": "ABX9TyPcPovfYQK0OZ8d1G2g4F8V",
      "include_colab_link": true
    },
    "kernelspec": {
      "name": "python3",
      "display_name": "Python 3"
    }
  },
  "cells": [
    {
      "cell_type": "markdown",
      "metadata": {
        "id": "view-in-github",
        "colab_type": "text"
      },
      "source": [
        "<a href=\"https://colab.research.google.com/github/SIDDHARTHA2301/COVID-19/blob/master/COVID_19_INDIA_VIZ_PART_1.ipynb\" target=\"_parent\"><img src=\"https://colab.research.google.com/assets/colab-badge.svg\" alt=\"Open In Colab\"/></a>"
      ]
    },
    {
      "cell_type": "code",
      "metadata": {
        "id": "xp5qS1RORE3D",
        "colab_type": "code",
        "colab": {
          "base_uri": "https://localhost:8080/",
          "height": 69
        },
        "outputId": "0e9ed2d8-235a-4e9d-ce8a-018b1aceb55c"
      },
      "source": [
        "import os\n",
        "os.environ['KAGGLE_USERNAME'] = \"siddharthabose2301\" # username from the json file\n",
        "os.environ['KAGGLE_KEY'] = \"088b8c75aec9e4bafbe472fae7e2c06e\" # key from the json file\n",
        "!kaggle datasets download -d sudalairajkumar/novel-corona-virus-2019-dataset"
      ],
      "execution_count": 4,
      "outputs": [
        {
          "output_type": "stream",
          "text": [
            "Downloading novel-corona-virus-2019-dataset.zip to /content\n",
            "\r  0% 0.00/833k [00:00<?, ?B/s]\n",
            "\r100% 833k/833k [00:00<00:00, 56.2MB/s]\n"
          ],
          "name": "stdout"
        }
      ]
    },
    {
      "cell_type": "code",
      "metadata": {
        "id": "mHJ-a-DCRPuu",
        "colab_type": "code",
        "colab": {
          "base_uri": "https://localhost:8080/",
          "height": 173
        },
        "outputId": "117e7766-ce94-4a77-82c3-797fc4ed87f2"
      },
      "source": [
        "! unzip novel-corona-virus-2019-dataset.zip"
      ],
      "execution_count": 5,
      "outputs": [
        {
          "output_type": "stream",
          "text": [
            "Archive:  novel-corona-virus-2019-dataset.zip\n",
            "  inflating: COVID19_line_list_data.csv  \n",
            "  inflating: COVID19_open_line_list.csv  \n",
            "  inflating: covid_19_data.csv       \n",
            "  inflating: time_series_covid_19_confirmed.csv  \n",
            "  inflating: time_series_covid_19_confirmed_US.csv  \n",
            "  inflating: time_series_covid_19_deaths.csv  \n",
            "  inflating: time_series_covid_19_deaths_US.csv  \n",
            "  inflating: time_series_covid_19_recovered.csv  \n"
          ],
          "name": "stdout"
        }
      ]
    },
    {
      "cell_type": "code",
      "metadata": {
        "id": "e0_ajVMnSQAV",
        "colab_type": "code",
        "colab": {}
      },
      "source": [
        "import numpy as np\n",
        "import pandas as pd\n",
        "import matplotlib.pyplot as plt\n",
        "%matplotlib inline\n",
        "import matplotlib.dates as mdates"
      ],
      "execution_count": 0,
      "outputs": []
    },
    {
      "cell_type": "code",
      "metadata": {
        "id": "CYyxByi2SuK8",
        "colab_type": "code",
        "colab": {
          "base_uri": "https://localhost:8080/",
          "height": 415
        },
        "outputId": "dd617fbc-f944-466a-855d-80195affee36"
      },
      "source": [
        "def india_data_confirmed():\n",
        "    confirmed  = pd.read_csv(\"time_series_covid_19_confirmed.csv\")\n",
        "    confirmed = confirmed[confirmed['Country/Region']=='India'].groupby('Country/Region').sum().drop([\"Lat\",\"Long\"],axis = 1).T.reset_index()\n",
        "    confirmed.rename(columns = {'index':'Date','India':'Confirmed Cases'},inplace = True)\n",
        "    confirmed.columns.name = \"\"\n",
        "    confirmed['Date'] = pd.to_datetime(confirmed['Date'])\n",
        "    confirmed.sort_values('Date')\n",
        "    return confirmed\n",
        "\n",
        "data_confirmed = india_data_confirmed()\n",
        "data_confirmed"
      ],
      "execution_count": 11,
      "outputs": [
        {
          "output_type": "execute_result",
          "data": {
            "text/html": [
              "<div>\n",
              "<style scoped>\n",
              "    .dataframe tbody tr th:only-of-type {\n",
              "        vertical-align: middle;\n",
              "    }\n",
              "\n",
              "    .dataframe tbody tr th {\n",
              "        vertical-align: top;\n",
              "    }\n",
              "\n",
              "    .dataframe thead th {\n",
              "        text-align: right;\n",
              "    }\n",
              "</style>\n",
              "<table border=\"1\" class=\"dataframe\">\n",
              "  <thead>\n",
              "    <tr style=\"text-align: right;\">\n",
              "      <th></th>\n",
              "      <th>Date</th>\n",
              "      <th>Confirmed Cases</th>\n",
              "    </tr>\n",
              "  </thead>\n",
              "  <tbody>\n",
              "    <tr>\n",
              "      <th>0</th>\n",
              "      <td>2020-01-22</td>\n",
              "      <td>0</td>\n",
              "    </tr>\n",
              "    <tr>\n",
              "      <th>1</th>\n",
              "      <td>2020-01-23</td>\n",
              "      <td>0</td>\n",
              "    </tr>\n",
              "    <tr>\n",
              "      <th>2</th>\n",
              "      <td>2020-01-24</td>\n",
              "      <td>0</td>\n",
              "    </tr>\n",
              "    <tr>\n",
              "      <th>3</th>\n",
              "      <td>2020-01-25</td>\n",
              "      <td>0</td>\n",
              "    </tr>\n",
              "    <tr>\n",
              "      <th>4</th>\n",
              "      <td>2020-01-26</td>\n",
              "      <td>0</td>\n",
              "    </tr>\n",
              "    <tr>\n",
              "      <th>...</th>\n",
              "      <td>...</td>\n",
              "      <td>...</td>\n",
              "    </tr>\n",
              "    <tr>\n",
              "      <th>90</th>\n",
              "      <td>2020-04-21</td>\n",
              "      <td>20080</td>\n",
              "    </tr>\n",
              "    <tr>\n",
              "      <th>91</th>\n",
              "      <td>2020-04-22</td>\n",
              "      <td>21370</td>\n",
              "    </tr>\n",
              "    <tr>\n",
              "      <th>92</th>\n",
              "      <td>2020-04-23</td>\n",
              "      <td>23077</td>\n",
              "    </tr>\n",
              "    <tr>\n",
              "      <th>93</th>\n",
              "      <td>2020-04-24</td>\n",
              "      <td>24530</td>\n",
              "    </tr>\n",
              "    <tr>\n",
              "      <th>94</th>\n",
              "      <td>2020-04-25</td>\n",
              "      <td>26283</td>\n",
              "    </tr>\n",
              "  </tbody>\n",
              "</table>\n",
              "<p>95 rows × 2 columns</p>\n",
              "</div>"
            ],
            "text/plain": [
              "         Date  Confirmed Cases\n",
              "0  2020-01-22                0\n",
              "1  2020-01-23                0\n",
              "2  2020-01-24                0\n",
              "3  2020-01-25                0\n",
              "4  2020-01-26                0\n",
              "..        ...              ...\n",
              "90 2020-04-21            20080\n",
              "91 2020-04-22            21370\n",
              "92 2020-04-23            23077\n",
              "93 2020-04-24            24530\n",
              "94 2020-04-25            26283\n",
              "\n",
              "[95 rows x 2 columns]"
            ]
          },
          "metadata": {
            "tags": []
          },
          "execution_count": 11
        }
      ]
    },
    {
      "cell_type": "code",
      "metadata": {
        "id": "F7dapR4kSyPD",
        "colab_type": "code",
        "colab": {
          "base_uri": "https://localhost:8080/",
          "height": 415
        },
        "outputId": "606e1dd5-8eec-42c7-e991-8625656303e4"
      },
      "source": [
        "def india_data_recovered():\n",
        "    recovered  = pd.read_csv(\"time_series_covid_19_recovered.csv\")\n",
        "    recovered = recovered[recovered['Country/Region']=='India'].groupby('Country/Region').sum().drop([\"Lat\",\"Long\"],axis = 1).T.reset_index()\n",
        "    recovered.rename(columns = {'index':'Date','India':'Recovered Cases'},inplace = True)\n",
        "    recovered.columns.name = \"\"\n",
        "    recovered['Date'] = pd.to_datetime(recovered['Date'])\n",
        "    recovered.sort_values('Date')\n",
        "    return recovered\n",
        "\n",
        "data_recovered = india_data_recovered()\n",
        "data_recovered"
      ],
      "execution_count": 12,
      "outputs": [
        {
          "output_type": "execute_result",
          "data": {
            "text/html": [
              "<div>\n",
              "<style scoped>\n",
              "    .dataframe tbody tr th:only-of-type {\n",
              "        vertical-align: middle;\n",
              "    }\n",
              "\n",
              "    .dataframe tbody tr th {\n",
              "        vertical-align: top;\n",
              "    }\n",
              "\n",
              "    .dataframe thead th {\n",
              "        text-align: right;\n",
              "    }\n",
              "</style>\n",
              "<table border=\"1\" class=\"dataframe\">\n",
              "  <thead>\n",
              "    <tr style=\"text-align: right;\">\n",
              "      <th></th>\n",
              "      <th>Date</th>\n",
              "      <th>Recovered Cases</th>\n",
              "    </tr>\n",
              "  </thead>\n",
              "  <tbody>\n",
              "    <tr>\n",
              "      <th>0</th>\n",
              "      <td>2020-01-22</td>\n",
              "      <td>0</td>\n",
              "    </tr>\n",
              "    <tr>\n",
              "      <th>1</th>\n",
              "      <td>2020-01-23</td>\n",
              "      <td>0</td>\n",
              "    </tr>\n",
              "    <tr>\n",
              "      <th>2</th>\n",
              "      <td>2020-01-24</td>\n",
              "      <td>0</td>\n",
              "    </tr>\n",
              "    <tr>\n",
              "      <th>3</th>\n",
              "      <td>2020-01-25</td>\n",
              "      <td>0</td>\n",
              "    </tr>\n",
              "    <tr>\n",
              "      <th>4</th>\n",
              "      <td>2020-01-26</td>\n",
              "      <td>0</td>\n",
              "    </tr>\n",
              "    <tr>\n",
              "      <th>...</th>\n",
              "      <td>...</td>\n",
              "      <td>...</td>\n",
              "    </tr>\n",
              "    <tr>\n",
              "      <th>90</th>\n",
              "      <td>2020-04-21</td>\n",
              "      <td>3975</td>\n",
              "    </tr>\n",
              "    <tr>\n",
              "      <th>91</th>\n",
              "      <td>2020-04-22</td>\n",
              "      <td>4370</td>\n",
              "    </tr>\n",
              "    <tr>\n",
              "      <th>92</th>\n",
              "      <td>2020-04-23</td>\n",
              "      <td>5012</td>\n",
              "    </tr>\n",
              "    <tr>\n",
              "      <th>93</th>\n",
              "      <td>2020-04-24</td>\n",
              "      <td>5498</td>\n",
              "    </tr>\n",
              "    <tr>\n",
              "      <th>94</th>\n",
              "      <td>2020-04-25</td>\n",
              "      <td>5939</td>\n",
              "    </tr>\n",
              "  </tbody>\n",
              "</table>\n",
              "<p>95 rows × 2 columns</p>\n",
              "</div>"
            ],
            "text/plain": [
              "         Date  Recovered Cases\n",
              "0  2020-01-22                0\n",
              "1  2020-01-23                0\n",
              "2  2020-01-24                0\n",
              "3  2020-01-25                0\n",
              "4  2020-01-26                0\n",
              "..        ...              ...\n",
              "90 2020-04-21             3975\n",
              "91 2020-04-22             4370\n",
              "92 2020-04-23             5012\n",
              "93 2020-04-24             5498\n",
              "94 2020-04-25             5939\n",
              "\n",
              "[95 rows x 2 columns]"
            ]
          },
          "metadata": {
            "tags": []
          },
          "execution_count": 12
        }
      ]
    },
    {
      "cell_type": "code",
      "metadata": {
        "id": "rP-WNOKGTR2b",
        "colab_type": "code",
        "colab": {
          "base_uri": "https://localhost:8080/",
          "height": 415
        },
        "outputId": "22a6a368-67f3-4a6a-8411-0fe0ce96d654"
      },
      "source": [
        "def india_data_death():\n",
        "    death  = pd.read_csv(\"time_series_covid_19_deaths.csv\")\n",
        "    death = death[death['Country/Region']=='India'].groupby('Country/Region').sum().drop([\"Lat\",\"Long\"],axis = 1).T.reset_index()\n",
        "    death.rename(columns = {'index':'Date','India':'Death Cases'},inplace = True)\n",
        "    death.columns.name = \"\"\n",
        "    death['Date'] = pd.to_datetime(death['Date'])\n",
        "    death.sort_values('Date')\n",
        "    return death\n",
        "\n",
        "data_death = india_data_death()\n",
        "data_death"
      ],
      "execution_count": 13,
      "outputs": [
        {
          "output_type": "execute_result",
          "data": {
            "text/html": [
              "<div>\n",
              "<style scoped>\n",
              "    .dataframe tbody tr th:only-of-type {\n",
              "        vertical-align: middle;\n",
              "    }\n",
              "\n",
              "    .dataframe tbody tr th {\n",
              "        vertical-align: top;\n",
              "    }\n",
              "\n",
              "    .dataframe thead th {\n",
              "        text-align: right;\n",
              "    }\n",
              "</style>\n",
              "<table border=\"1\" class=\"dataframe\">\n",
              "  <thead>\n",
              "    <tr style=\"text-align: right;\">\n",
              "      <th></th>\n",
              "      <th>Date</th>\n",
              "      <th>Death Cases</th>\n",
              "    </tr>\n",
              "  </thead>\n",
              "  <tbody>\n",
              "    <tr>\n",
              "      <th>0</th>\n",
              "      <td>2020-01-22</td>\n",
              "      <td>0</td>\n",
              "    </tr>\n",
              "    <tr>\n",
              "      <th>1</th>\n",
              "      <td>2020-01-23</td>\n",
              "      <td>0</td>\n",
              "    </tr>\n",
              "    <tr>\n",
              "      <th>2</th>\n",
              "      <td>2020-01-24</td>\n",
              "      <td>0</td>\n",
              "    </tr>\n",
              "    <tr>\n",
              "      <th>3</th>\n",
              "      <td>2020-01-25</td>\n",
              "      <td>0</td>\n",
              "    </tr>\n",
              "    <tr>\n",
              "      <th>4</th>\n",
              "      <td>2020-01-26</td>\n",
              "      <td>0</td>\n",
              "    </tr>\n",
              "    <tr>\n",
              "      <th>...</th>\n",
              "      <td>...</td>\n",
              "      <td>...</td>\n",
              "    </tr>\n",
              "    <tr>\n",
              "      <th>90</th>\n",
              "      <td>2020-04-21</td>\n",
              "      <td>645</td>\n",
              "    </tr>\n",
              "    <tr>\n",
              "      <th>91</th>\n",
              "      <td>2020-04-22</td>\n",
              "      <td>681</td>\n",
              "    </tr>\n",
              "    <tr>\n",
              "      <th>92</th>\n",
              "      <td>2020-04-23</td>\n",
              "      <td>721</td>\n",
              "    </tr>\n",
              "    <tr>\n",
              "      <th>93</th>\n",
              "      <td>2020-04-24</td>\n",
              "      <td>780</td>\n",
              "    </tr>\n",
              "    <tr>\n",
              "      <th>94</th>\n",
              "      <td>2020-04-25</td>\n",
              "      <td>825</td>\n",
              "    </tr>\n",
              "  </tbody>\n",
              "</table>\n",
              "<p>95 rows × 2 columns</p>\n",
              "</div>"
            ],
            "text/plain": [
              "         Date  Death Cases\n",
              "0  2020-01-22            0\n",
              "1  2020-01-23            0\n",
              "2  2020-01-24            0\n",
              "3  2020-01-25            0\n",
              "4  2020-01-26            0\n",
              "..        ...          ...\n",
              "90 2020-04-21          645\n",
              "91 2020-04-22          681\n",
              "92 2020-04-23          721\n",
              "93 2020-04-24          780\n",
              "94 2020-04-25          825\n",
              "\n",
              "[95 rows x 2 columns]"
            ]
          },
          "metadata": {
            "tags": []
          },
          "execution_count": 13
        }
      ]
    },
    {
      "cell_type": "code",
      "metadata": {
        "id": "cd2vb-AETf5i",
        "colab_type": "code",
        "colab": {
          "base_uri": "https://localhost:8080/",
          "height": 446
        },
        "outputId": "ce72a2ed-7867-4c4c-e9a8-2d9d88bc04a4"
      },
      "source": [
        "def full_data():\n",
        "    data_confirmed = india_data_confirmed()\n",
        "    data_recovered = india_data_recovered()\n",
        "    data_death = india_data_death()\n",
        "    full = pd.merge(data_confirmed,data_recovered, on='Date')\n",
        "    full = pd.merge(full,data_death, on='Date')\n",
        "    full.set_index('Date',inplace = True)\n",
        "    return full\n",
        "\n",
        "india_data = full_data()\n",
        "india_data"
      ],
      "execution_count": 14,
      "outputs": [
        {
          "output_type": "execute_result",
          "data": {
            "text/html": [
              "<div>\n",
              "<style scoped>\n",
              "    .dataframe tbody tr th:only-of-type {\n",
              "        vertical-align: middle;\n",
              "    }\n",
              "\n",
              "    .dataframe tbody tr th {\n",
              "        vertical-align: top;\n",
              "    }\n",
              "\n",
              "    .dataframe thead th {\n",
              "        text-align: right;\n",
              "    }\n",
              "</style>\n",
              "<table border=\"1\" class=\"dataframe\">\n",
              "  <thead>\n",
              "    <tr style=\"text-align: right;\">\n",
              "      <th></th>\n",
              "      <th>Confirmed Cases</th>\n",
              "      <th>Recovered Cases</th>\n",
              "      <th>Death Cases</th>\n",
              "    </tr>\n",
              "    <tr>\n",
              "      <th>Date</th>\n",
              "      <th></th>\n",
              "      <th></th>\n",
              "      <th></th>\n",
              "    </tr>\n",
              "  </thead>\n",
              "  <tbody>\n",
              "    <tr>\n",
              "      <th>2020-01-22</th>\n",
              "      <td>0</td>\n",
              "      <td>0</td>\n",
              "      <td>0</td>\n",
              "    </tr>\n",
              "    <tr>\n",
              "      <th>2020-01-23</th>\n",
              "      <td>0</td>\n",
              "      <td>0</td>\n",
              "      <td>0</td>\n",
              "    </tr>\n",
              "    <tr>\n",
              "      <th>2020-01-24</th>\n",
              "      <td>0</td>\n",
              "      <td>0</td>\n",
              "      <td>0</td>\n",
              "    </tr>\n",
              "    <tr>\n",
              "      <th>2020-01-25</th>\n",
              "      <td>0</td>\n",
              "      <td>0</td>\n",
              "      <td>0</td>\n",
              "    </tr>\n",
              "    <tr>\n",
              "      <th>2020-01-26</th>\n",
              "      <td>0</td>\n",
              "      <td>0</td>\n",
              "      <td>0</td>\n",
              "    </tr>\n",
              "    <tr>\n",
              "      <th>...</th>\n",
              "      <td>...</td>\n",
              "      <td>...</td>\n",
              "      <td>...</td>\n",
              "    </tr>\n",
              "    <tr>\n",
              "      <th>2020-04-21</th>\n",
              "      <td>20080</td>\n",
              "      <td>3975</td>\n",
              "      <td>645</td>\n",
              "    </tr>\n",
              "    <tr>\n",
              "      <th>2020-04-22</th>\n",
              "      <td>21370</td>\n",
              "      <td>4370</td>\n",
              "      <td>681</td>\n",
              "    </tr>\n",
              "    <tr>\n",
              "      <th>2020-04-23</th>\n",
              "      <td>23077</td>\n",
              "      <td>5012</td>\n",
              "      <td>721</td>\n",
              "    </tr>\n",
              "    <tr>\n",
              "      <th>2020-04-24</th>\n",
              "      <td>24530</td>\n",
              "      <td>5498</td>\n",
              "      <td>780</td>\n",
              "    </tr>\n",
              "    <tr>\n",
              "      <th>2020-04-25</th>\n",
              "      <td>26283</td>\n",
              "      <td>5939</td>\n",
              "      <td>825</td>\n",
              "    </tr>\n",
              "  </tbody>\n",
              "</table>\n",
              "<p>95 rows × 3 columns</p>\n",
              "</div>"
            ],
            "text/plain": [
              "            Confirmed Cases  Recovered Cases  Death Cases\n",
              "Date                                                     \n",
              "2020-01-22                0                0            0\n",
              "2020-01-23                0                0            0\n",
              "2020-01-24                0                0            0\n",
              "2020-01-25                0                0            0\n",
              "2020-01-26                0                0            0\n",
              "...                     ...              ...          ...\n",
              "2020-04-21            20080             3975          645\n",
              "2020-04-22            21370             4370          681\n",
              "2020-04-23            23077             5012          721\n",
              "2020-04-24            24530             5498          780\n",
              "2020-04-25            26283             5939          825\n",
              "\n",
              "[95 rows x 3 columns]"
            ]
          },
          "metadata": {
            "tags": []
          },
          "execution_count": 14
        }
      ]
    },
    {
      "cell_type": "code",
      "metadata": {
        "id": "XrcR_lmnTzNZ",
        "colab_type": "code",
        "colab": {
          "base_uri": "https://localhost:8080/",
          "height": 493
        },
        "outputId": "91e314b0-bdd3-40fc-b47c-b709507231a5"
      },
      "source": [
        "fig1, ax1 = plt.subplots(figsize=(15,7))\n",
        "ax1.bar(india_data.index,india_data['Confirmed Cases'],color = 'purple')\n",
        "ax1.xaxis.set_major_locator(mdates.WeekdayLocator())\n",
        "ax1.xaxis.set_major_formatter(mdates.DateFormatter('%b %d'))\n",
        "ax1.set_title(\"Confirmed Cases in India\",size = 30)\n",
        "ax1.set_xlabel(\"Dates\",size = 15,weight = 'bold')\n",
        "ax1.set_ylabel(\"Number of cases\",size = 15,weight = 'bold')\n",
        "ax1.annotate(india_data.loc['2020-04-25']['Confirmed Cases'],xy = (india_data.index[len(india_data)-3],india_data.loc['2020-04-25']['Confirmed Cases']+200),size = 15)"
      ],
      "execution_count": 22,
      "outputs": [
        {
          "output_type": "execute_result",
          "data": {
            "text/plain": [
              "Text(2020-04-23 00:00:00, 26483, '26283')"
            ]
          },
          "metadata": {
            "tags": []
          },
          "execution_count": 22
        },
        {
          "output_type": "display_data",
          "data": {
            "image/png": "[encoded data removed]",
            "text/plain": [
              "<Figure size 1080x504 with 1 Axes>"
            ]
          },
          "metadata": {
            "tags": [],
            "needs_background": "light"
          }
        }
      ]
    },
    {
      "cell_type": "code",
      "metadata": {
        "id": "aywBpE_dT5BV",
        "colab_type": "code",
        "colab": {
          "base_uri": "https://localhost:8080/",
          "height": 493
        },
        "outputId": "c289f1a0-019a-4712-d176-76eabc4e22b6"
      },
      "source": [
        "fig2, ax2 = plt.subplots(figsize=(15,7))\n",
        "ax2.bar(india_data.index,india_data['Recovered Cases'],color = 'green')\n",
        "ax2.xaxis.set_major_locator(mdates.WeekdayLocator())\n",
        "ax2.xaxis.set_major_formatter(mdates.DateFormatter('%b %d'))\n",
        "ax2.set_title(\"Recovered Cases in India\",size = 30)\n",
        "ax2.set_xlabel(\"Dates\",size = 15,weight = 'bold')\n",
        "ax2.set_ylabel(\"Number of recovery\",size = 15,weight = 'bold')\n",
        "ax2.annotate(india_data.loc['2020-04-25']['Recovered Cases'],xy = (india_data.index[len(india_data)-3],india_data.loc['2020-04-25']['Recovered Cases']+50),size = 15)"
      ],
      "execution_count": 23,
      "outputs": [
        {
          "output_type": "execute_result",
          "data": {
            "text/plain": [
              "Text(2020-04-23 00:00:00, 5989, '5939')"
            ]
          },
          "metadata": {
            "tags": []
          },
          "execution_count": 23
        },
        {
          "output_type": "display_data",
          "data": {
            "image/png": "[encoded data removed]",
            "text/plain": [
              "<Figure size 1080x504 with 1 Axes>"
            ]
          },
          "metadata": {
            "tags": [],
            "needs_background": "light"
          }
        }
      ]
    },
    {
      "cell_type": "code",
      "metadata": {
        "id": "Emk8euxLU8qm",
        "colab_type": "code",
        "colab": {
          "base_uri": "https://localhost:8080/",
          "height": 493
        },
        "outputId": "22241209-cb6a-4647-86f2-95ef29c65efd"
      },
      "source": [
        "fig3, ax3 = plt.subplots(figsize=(15,7))\n",
        "ax3.bar(india_data.index,india_data['Death Cases'],color = 'red')\n",
        "ax3.xaxis.set_major_locator(mdates.WeekdayLocator())\n",
        "ax3.xaxis.set_major_formatter(mdates.DateFormatter('%b %d'))\n",
        "ax3.set_title(\"Death Cases in India\",size = 30)\n",
        "ax3.set_xlabel(\"Dates\",size = 15,weight = 'bold')\n",
        "ax3.set_ylabel(\"Number of cases\",size = 15,weight = 'bold')\n",
        "ax3.annotate(india_data.loc['2020-04-25']['Death Cases'],xy = (india_data.index[len(india_data)-3],india_data.loc['2020-04-25']['Death Cases']+10),size = 15)"
      ],
      "execution_count": 24,
      "outputs": [
        {
          "output_type": "execute_result",
          "data": {
            "text/plain": [
              "Text(2020-04-23 00:00:00, 835, '825')"
            ]
          },
          "metadata": {
            "tags": []
          },
          "execution_count": 24
        },
        {
          "output_type": "display_data",
          "data": {
            "image/png": "[encoded data removed]",
            "text/plain": [
              "<Figure size 1080x504 with 1 Axes>"
            ]
          },
          "metadata": {
            "tags": [],
            "needs_background": "light"
          }
        }
      ]
    },
    {
      "cell_type": "code",
      "metadata": {
        "id": "oo5j2vBlVETE",
        "colab_type": "code",
        "colab": {
          "base_uri": "https://localhost:8080/",
          "height": 493
        },
        "outputId": "891b05d4-48fd-4082-cbde-bff55c0720ca"
      },
      "source": [
        "fig5, ax5 = plt.subplots(figsize=(15,7))\n",
        "ax5.plot(india_data.index,india_data['Confirmed Cases'],color = 'purple',lw = 3,alpha = 0.6)\n",
        "ax5.fill_between(india_data.index,india_data['Confirmed Cases'],color = 'purple',lw = 3,alpha = 0.2)\n",
        "ax5.plot(india_data.index,india_data['Recovered Cases'],color = 'green',lw = 3,alpha = 0.6)\n",
        "ax5.plot(india_data.index,india_data['Death Cases'],color = 'red',lw = 3,alpha = 0.6)\n",
        "ax5.fill_between(india_data.index,india_data['Recovered Cases'],color = 'green',lw = 3,alpha = 0.6)\n",
        "ax5.fill_between(india_data.index,india_data['Death Cases'],color = 'red',lw = 3,alpha = 0.6)\n",
        "ax5.xaxis.set_major_locator(mdates.WeekdayLocator())\n",
        "ax5.xaxis.set_major_formatter(mdates.DateFormatter('%b %d'))\n",
        "ax5.set_title(\"COVID-19 Data of India\",size = 30)\n",
        "ax5.set_xlabel(\"Dates\",size = 15,weight = 'bold')\n",
        "\n",
        "ax5.annotate(india_data.loc['2020-04-25']['Confirmed Cases'],xy = (india_data.index[len(india_data)-3],india_data.loc['2020-04-25']['Confirmed Cases']+400),size = 15)\n",
        "ax5.annotate(india_data.loc['2020-04-25']['Recovered Cases'],xy = (india_data.index[len(india_data)-3],india_data.loc['2020-04-25']['Recovered Cases']+400),size = 15)\n",
        "ax5.annotate(india_data.loc['2020-04-25']['Death Cases'],xy = (india_data.index[len(india_data)-3],india_data.loc['2020-04-25']['Death Cases']+400),size = 15)"
      ],
      "execution_count": 26,
      "outputs": [
        {
          "output_type": "execute_result",
          "data": {
            "text/plain": [
              "Text(2020-04-23 00:00:00, 1225, '825')"
            ]
          },
          "metadata": {
            "tags": []
          },
          "execution_count": 26
        },
        {
          "output_type": "display_data",
          "data": {
            "image/png": "[encoded data removed]",
            "text/plain": [
              "<Figure size 1080x504 with 1 Axes>"
            ]
          },
          "metadata": {
            "tags": [],
            "needs_background": "light"
          }
        }
      ]
    },
    {
      "cell_type": "code",
      "metadata": {
        "id": "f20Ekvz6VTyU",
        "colab_type": "code",
        "colab": {
          "base_uri": "https://localhost:8080/",
          "height": 447
        },
        "outputId": "f7dd7e0b-a68e-4b8b-b157-e7c61be47fee"
      },
      "source": [
        "labels = ['Confirmed','Recovered','Death']\n",
        "sizes = list(india_data.loc['2020-04-25'])\n",
        "explode = (0.05,0.05,0.05)  \n",
        "colours = ['#66b3ff','#99ff99','#ff9999']\n",
        "\n",
        "fig6, ax6 = plt.subplots(figsize=(7,7))\n",
        "patches, texts, autotexts = ax6.pie(sizes, explode=explode, labels=labels, pctdistance=0.75,autopct='%1.1f%%',shadow=False, startangle=0,colors = colours)\n",
        "\n",
        "for text in texts:\n",
        "    text.set_size(20)\n",
        "for autotext in autotexts:\n",
        "    autotext.set_size(15)\n",
        "    \n",
        "centre_circle = plt.Circle((0,0),0.60,fc='white')\n",
        "fig = plt.gcf()\n",
        "fig.gca().add_artist(centre_circle)\n",
        "\n",
        "ax6.set_title(\"%age wise Data of COVID-19 in India\",size = 25)\n",
        "plt.tight_layout()\n",
        "\n",
        "plt.show()"
      ],
      "execution_count": 28,
      "outputs": [
        {
          "output_type": "display_data",
          "data": {
            "image/png": "[encoded data removed]",
            "text/plain": [
              "<Figure size 504x504 with 1 Axes>"
            ]
          },
          "metadata": {
            "tags": []
          }
        }
      ]
    },
    {
      "cell_type": "code",
      "metadata": {
        "id": "vLfm41zcVjW5",
        "colab_type": "code",
        "colab": {}
      },
      "source": [
        ""
      ],
      "execution_count": 0,
      "outputs": []
    }
  ]
}