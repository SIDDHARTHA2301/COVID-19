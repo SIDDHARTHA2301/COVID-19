{
  "nbformat": 4,
  "nbformat_minor": 0,
  "metadata": {
    "colab": {
      "name": "PIMA INDIA.ipynb",
      "provenance": [],
      "authorship_tag": "ABX9TyNrGvEw8snetKlBpzHlP61U",
      "include_colab_link": true
    },
    "kernelspec": {
      "name": "python3",
      "display_name": "Python 3"
    }
  },
  "cells": [
    {
      "cell_type": "markdown",
      "metadata": {
        "id": "view-in-github",
        "colab_type": "text"
      },
      "source": [
        "<a href=\"https://colab.research.google.com/github/SIDDHARTHA2301/COVID-19/blob/master/PIMA_INDIA.ipynb\" target=\"_parent\"><img src=\"https://colab.research.google.com/assets/colab-badge.svg\" alt=\"Open In Colab\"/></a>"
      ]
    },
    {
      "cell_type": "code",
      "metadata": {
        "id": "pdAVIgeBUusN",
        "colab_type": "code",
        "colab": {
          "base_uri": "https://localhost:8080/",
          "height": 69
        },
        "outputId": "22eaf584-e46d-47b4-fe9e-5f3359e40ec3"
      },
      "source": [
        "import os\n",
        "os.environ['KAGGLE_USERNAME'] = \"siddharthabose2301\" # username from the json file\n",
        "os.environ['KAGGLE_KEY'] = \"088b8c75aec9e4bafbe472fae7e2c06e\" # key from the json file\n",
        "\n",
        "!kaggle datasets download -d uciml/pima-indians-diabetes-database\n"
      ],
      "execution_count": 3,
      "outputs": [
        {
          "output_type": "stream",
          "text": [
            "Downloading pima-indians-diabetes-database.zip to /content\n",
            "\r  0% 0.00/8.91k [00:00<?, ?B/s]\n",
            "\r100% 8.91k/8.91k [00:00<00:00, 8.30MB/s]\n"
          ],
          "name": "stdout"
        }
      ]
    },
    {
      "cell_type": "code",
      "metadata": {
        "id": "HFsuLKrkYuwa",
        "colab_type": "code",
        "colab": {
          "base_uri": "https://localhost:8080/",
          "height": 52
        },
        "outputId": "f386d432-1ac4-4aea-aad8-1480a484584d"
      },
      "source": [
        "! unzip pima-indians-diabetes-database.zip"
      ],
      "execution_count": 4,
      "outputs": [
        {
          "output_type": "stream",
          "text": [
            "Archive:  pima-indians-diabetes-database.zip\n",
            "  inflating: diabetes.csv            \n"
          ],
          "name": "stdout"
        }
      ]
    },
    {
      "cell_type": "code",
      "metadata": {
        "id": "MG7pqNV9aqY3",
        "colab_type": "code",
        "colab": {
          "base_uri": "https://localhost:8080/",
          "height": 72
        },
        "outputId": "e5a52191-8761-42fe-8f0c-2dd8c856c88a"
      },
      "source": [
        "import numpy as np\n",
        "import pandas as pd\n",
        "import matplotlib as plt\n",
        "%matplotlib inline\n",
        "import seaborn as sns"
      ],
      "execution_count": 7,
      "outputs": [
        {
          "output_type": "stream",
          "text": [
            "/usr/local/lib/python3.6/dist-packages/statsmodels/tools/_testing.py:19: FutureWarning: pandas.util.testing is deprecated. Use the functions in the public API at pandas.testing instead.\n",
            "  import pandas.util.testing as tm\n"
          ],
          "name": "stderr"
        }
      ]
    },
    {
      "cell_type": "code",
      "metadata": {
        "id": "ZrPTo5Bxayhv",
        "colab_type": "code",
        "colab": {
          "base_uri": "https://localhost:8080/",
          "height": 202
        },
        "outputId": "8cd090ed-8075-49d5-aea0-d61dfb09be1d"
      },
      "source": [
        "data = pd.read_csv(\"diabetes.csv\")\n",
        "data.head()"
      ],
      "execution_count": 8,
      "outputs": [
        {
          "output_type": "execute_result",
          "data": {
            "text/html": [
              "<div>\n",
              "<style scoped>\n",
              "    .dataframe tbody tr th:only-of-type {\n",
              "        vertical-align: middle;\n",
              "    }\n",
              "\n",
              "    .dataframe tbody tr th {\n",
              "        vertical-align: top;\n",
              "    }\n",
              "\n",
              "    .dataframe thead th {\n",
              "        text-align: right;\n",
              "    }\n",
              "</style>\n",
              "<table border=\"1\" class=\"dataframe\">\n",
              "  <thead>\n",
              "    <tr style=\"text-align: right;\">\n",
              "      <th></th>\n",
              "      <th>Pregnancies</th>\n",
              "      <th>Glucose</th>\n",
              "      <th>BloodPressure</th>\n",
              "      <th>SkinThickness</th>\n",
              "      <th>Insulin</th>\n",
              "      <th>BMI</th>\n",
              "      <th>DiabetesPedigreeFunction</th>\n",
              "      <th>Age</th>\n",
              "      <th>Outcome</th>\n",
              "    </tr>\n",
              "  </thead>\n",
              "  <tbody>\n",
              "    <tr>\n",
              "      <th>0</th>\n",
              "      <td>6</td>\n",
              "      <td>148</td>\n",
              "      <td>72</td>\n",
              "      <td>35</td>\n",
              "      <td>0</td>\n",
              "      <td>33.6</td>\n",
              "      <td>0.627</td>\n",
              "      <td>50</td>\n",
              "      <td>1</td>\n",
              "    </tr>\n",
              "    <tr>\n",
              "      <th>1</th>\n",
              "      <td>1</td>\n",
              "      <td>85</td>\n",
              "      <td>66</td>\n",
              "      <td>29</td>\n",
              "      <td>0</td>\n",
              "      <td>26.6</td>\n",
              "      <td>0.351</td>\n",
              "      <td>31</td>\n",
              "      <td>0</td>\n",
              "    </tr>\n",
              "    <tr>\n",
              "      <th>2</th>\n",
              "      <td>8</td>\n",
              "      <td>183</td>\n",
              "      <td>64</td>\n",
              "      <td>0</td>\n",
              "      <td>0</td>\n",
              "      <td>23.3</td>\n",
              "      <td>0.672</td>\n",
              "      <td>32</td>\n",
              "      <td>1</td>\n",
              "    </tr>\n",
              "    <tr>\n",
              "      <th>3</th>\n",
              "      <td>1</td>\n",
              "      <td>89</td>\n",
              "      <td>66</td>\n",
              "      <td>23</td>\n",
              "      <td>94</td>\n",
              "      <td>28.1</td>\n",
              "      <td>0.167</td>\n",
              "      <td>21</td>\n",
              "      <td>0</td>\n",
              "    </tr>\n",
              "    <tr>\n",
              "      <th>4</th>\n",
              "      <td>0</td>\n",
              "      <td>137</td>\n",
              "      <td>40</td>\n",
              "      <td>35</td>\n",
              "      <td>168</td>\n",
              "      <td>43.1</td>\n",
              "      <td>2.288</td>\n",
              "      <td>33</td>\n",
              "      <td>1</td>\n",
              "    </tr>\n",
              "  </tbody>\n",
              "</table>\n",
              "</div>"
            ],
            "text/plain": [
              "   Pregnancies  Glucose  BloodPressure  ...  DiabetesPedigreeFunction  Age  Outcome\n",
              "0            6      148             72  ...                     0.627   50        1\n",
              "1            1       85             66  ...                     0.351   31        0\n",
              "2            8      183             64  ...                     0.672   32        1\n",
              "3            1       89             66  ...                     0.167   21        0\n",
              "4            0      137             40  ...                     2.288   33        1\n",
              "\n",
              "[5 rows x 9 columns]"
            ]
          },
          "metadata": {
            "tags": []
          },
          "execution_count": 8
        }
      ]
    },
    {
      "cell_type": "code",
      "metadata": {
        "id": "Gsxbr_z9bY0K",
        "colab_type": "code",
        "colab": {
          "base_uri": "https://localhost:8080/",
          "height": 35
        },
        "outputId": "3feaf3fb-164e-4906-82ec-ed0ddd450dfd"
      },
      "source": [
        "data.shape"
      ],
      "execution_count": 10,
      "outputs": [
        {
          "output_type": "execute_result",
          "data": {
            "text/plain": [
              "(768, 9)"
            ]
          },
          "metadata": {
            "tags": []
          },
          "execution_count": 10
        }
      ]
    },
    {
      "cell_type": "code",
      "metadata": {
        "id": "8rOlwSk_cpnn",
        "colab_type": "code",
        "colab": {
          "base_uri": "https://localhost:8080/",
          "height": 294
        },
        "outputId": "120d17c4-d1b6-43db-814d-7eefabb84a7d"
      },
      "source": [
        "data.describe()"
      ],
      "execution_count": 11,
      "outputs": [
        {
          "output_type": "execute_result",
          "data": {
            "text/html": [
              "<div>\n",
              "<style scoped>\n",
              "    .dataframe tbody tr th:only-of-type {\n",
              "        vertical-align: middle;\n",
              "    }\n",
              "\n",
              "    .dataframe tbody tr th {\n",
              "        vertical-align: top;\n",
              "    }\n",
              "\n",
              "    .dataframe thead th {\n",
              "        text-align: right;\n",
              "    }\n",
              "</style>\n",
              "<table border=\"1\" class=\"dataframe\">\n",
              "  <thead>\n",
              "    <tr style=\"text-align: right;\">\n",
              "      <th></th>\n",
              "      <th>Pregnancies</th>\n",
              "      <th>Glucose</th>\n",
              "      <th>BloodPressure</th>\n",
              "      <th>SkinThickness</th>\n",
              "      <th>Insulin</th>\n",
              "      <th>BMI</th>\n",
              "      <th>DiabetesPedigreeFunction</th>\n",
              "      <th>Age</th>\n",
              "      <th>Outcome</th>\n",
              "    </tr>\n",
              "  </thead>\n",
              "  <tbody>\n",
              "    <tr>\n",
              "      <th>count</th>\n",
              "      <td>768.000000</td>\n",
              "      <td>768.000000</td>\n",
              "      <td>768.000000</td>\n",
              "      <td>768.000000</td>\n",
              "      <td>768.000000</td>\n",
              "      <td>768.000000</td>\n",
              "      <td>768.000000</td>\n",
              "      <td>768.000000</td>\n",
              "      <td>768.000000</td>\n",
              "    </tr>\n",
              "    <tr>\n",
              "      <th>mean</th>\n",
              "      <td>3.845052</td>\n",
              "      <td>120.894531</td>\n",
              "      <td>69.105469</td>\n",
              "      <td>20.536458</td>\n",
              "      <td>79.799479</td>\n",
              "      <td>31.992578</td>\n",
              "      <td>0.471876</td>\n",
              "      <td>33.240885</td>\n",
              "      <td>0.348958</td>\n",
              "    </tr>\n",
              "    <tr>\n",
              "      <th>std</th>\n",
              "      <td>3.369578</td>\n",
              "      <td>31.972618</td>\n",
              "      <td>19.355807</td>\n",
              "      <td>15.952218</td>\n",
              "      <td>115.244002</td>\n",
              "      <td>7.884160</td>\n",
              "      <td>0.331329</td>\n",
              "      <td>11.760232</td>\n",
              "      <td>0.476951</td>\n",
              "    </tr>\n",
              "    <tr>\n",
              "      <th>min</th>\n",
              "      <td>0.000000</td>\n",
              "      <td>0.000000</td>\n",
              "      <td>0.000000</td>\n",
              "      <td>0.000000</td>\n",
              "      <td>0.000000</td>\n",
              "      <td>0.000000</td>\n",
              "      <td>0.078000</td>\n",
              "      <td>21.000000</td>\n",
              "      <td>0.000000</td>\n",
              "    </tr>\n",
              "    <tr>\n",
              "      <th>25%</th>\n",
              "      <td>1.000000</td>\n",
              "      <td>99.000000</td>\n",
              "      <td>62.000000</td>\n",
              "      <td>0.000000</td>\n",
              "      <td>0.000000</td>\n",
              "      <td>27.300000</td>\n",
              "      <td>0.243750</td>\n",
              "      <td>24.000000</td>\n",
              "      <td>0.000000</td>\n",
              "    </tr>\n",
              "    <tr>\n",
              "      <th>50%</th>\n",
              "      <td>3.000000</td>\n",
              "      <td>117.000000</td>\n",
              "      <td>72.000000</td>\n",
              "      <td>23.000000</td>\n",
              "      <td>30.500000</td>\n",
              "      <td>32.000000</td>\n",
              "      <td>0.372500</td>\n",
              "      <td>29.000000</td>\n",
              "      <td>0.000000</td>\n",
              "    </tr>\n",
              "    <tr>\n",
              "      <th>75%</th>\n",
              "      <td>6.000000</td>\n",
              "      <td>140.250000</td>\n",
              "      <td>80.000000</td>\n",
              "      <td>32.000000</td>\n",
              "      <td>127.250000</td>\n",
              "      <td>36.600000</td>\n",
              "      <td>0.626250</td>\n",
              "      <td>41.000000</td>\n",
              "      <td>1.000000</td>\n",
              "    </tr>\n",
              "    <tr>\n",
              "      <th>max</th>\n",
              "      <td>17.000000</td>\n",
              "      <td>199.000000</td>\n",
              "      <td>122.000000</td>\n",
              "      <td>99.000000</td>\n",
              "      <td>846.000000</td>\n",
              "      <td>67.100000</td>\n",
              "      <td>2.420000</td>\n",
              "      <td>81.000000</td>\n",
              "      <td>1.000000</td>\n",
              "    </tr>\n",
              "  </tbody>\n",
              "</table>\n",
              "</div>"
            ],
            "text/plain": [
              "       Pregnancies     Glucose  ...         Age     Outcome\n",
              "count   768.000000  768.000000  ...  768.000000  768.000000\n",
              "mean      3.845052  120.894531  ...   33.240885    0.348958\n",
              "std       3.369578   31.972618  ...   11.760232    0.476951\n",
              "min       0.000000    0.000000  ...   21.000000    0.000000\n",
              "25%       1.000000   99.000000  ...   24.000000    0.000000\n",
              "50%       3.000000  117.000000  ...   29.000000    0.000000\n",
              "75%       6.000000  140.250000  ...   41.000000    1.000000\n",
              "max      17.000000  199.000000  ...   81.000000    1.000000\n",
              "\n",
              "[8 rows x 9 columns]"
            ]
          },
          "metadata": {
            "tags": []
          },
          "execution_count": 11
        }
      ]
    },
    {
      "cell_type": "code",
      "metadata": {
        "id": "u1YqwYUPc6Z7",
        "colab_type": "code",
        "colab": {
          "base_uri": "https://localhost:8080/",
          "height": 191
        },
        "outputId": "91608c9b-b1cb-4917-9d08-685ba555a3e7"
      },
      "source": [
        "data.isnull().sum()"
      ],
      "execution_count": 13,
      "outputs": [
        {
          "output_type": "execute_result",
          "data": {
            "text/plain": [
              "Pregnancies                 0\n",
              "Glucose                     0\n",
              "BloodPressure               0\n",
              "SkinThickness               0\n",
              "Insulin                     0\n",
              "BMI                         0\n",
              "DiabetesPedigreeFunction    0\n",
              "Age                         0\n",
              "Outcome                     0\n",
              "dtype: int64"
            ]
          },
          "metadata": {
            "tags": []
          },
          "execution_count": 13
        }
      ]
    },
    {
      "cell_type": "code",
      "metadata": {
        "id": "5C9KqrnodG5k",
        "colab_type": "code",
        "colab": {
          "base_uri": "https://localhost:8080/",
          "height": 297
        },
        "outputId": "5caf9e79-6f3a-4fe6-a38f-beb6233c815d"
      },
      "source": [
        "sns.boxplot(x = 'Outcome',y = 'Pregnancies',data = data)"
      ],
      "execution_count": 15,
      "outputs": [
        {
          "output_type": "execute_result",
          "data": {
            "text/plain": [
              "<matplotlib.axes._subplots.AxesSubplot at 0x7f50d304a438>"
            ]
          },
          "metadata": {
            "tags": []
          },
          "execution_count": 15
        },
        {
          "output_type": "display_data",
          "data": {
            "image/png": "[encoded data removed]",
            "text/plain": [
              "<Figure size 432x288 with 1 Axes>"
            ]
          },
          "metadata": {
            "tags": [],
            "needs_background": "light"
          }
        }
      ]
    },
    {
      "cell_type": "code",
      "metadata": {
        "id": "og-tOZyCdiaK",
        "colab_type": "code",
        "colab": {
          "base_uri": "https://localhost:8080/",
          "height": 297
        },
        "outputId": "a0c3ae85-bf9d-4dc8-c809-a8fb5a33f84e"
      },
      "source": [
        "sns.scatterplot(x = 'Age',y = 'BloodPressure',data = data,hue = 'Outcome')"
      ],
      "execution_count": 18,
      "outputs": [
        {
          "output_type": "execute_result",
          "data": {
            "text/plain": [
              "<matplotlib.axes._subplots.AxesSubplot at 0x7f50d06b4048>"
            ]
          },
          "metadata": {
            "tags": []
          },
          "execution_count": 18
        },
        {
          "output_type": "display_data",
          "data": {
            "image/png": "[encoded data removed]",
            "text/plain": [
              "<Figure size 432x288 with 1 Axes>"
            ]
          },
          "metadata": {
            "tags": [],
            "needs_background": "light"
          }
        }
      ]
    },
    {
      "cell_type": "code",
      "metadata": {
        "id": "tzuzqiAqdxll",
        "colab_type": "code",
        "colab": {
          "base_uri": "https://localhost:8080/",
          "height": 299
        },
        "outputId": "8578be6f-95a4-496e-fd0d-48920cac0016"
      },
      "source": [
        "sns.scatterplot(x = 'Age',y = 'BMI',data = data,hue = 'Outcome')"
      ],
      "execution_count": 19,
      "outputs": [
        {
          "output_type": "execute_result",
          "data": {
            "text/plain": [
              "<matplotlib.axes._subplots.AxesSubplot at 0x7f50d06b4ba8>"
            ]
          },
          "metadata": {
            "tags": []
          },
          "execution_count": 19
        },
        {
          "output_type": "display_data",
          "data": {
            "image/png": "[encoded data removed]",
            "text/plain": [
              "<Figure size 432x288 with 1 Axes>"
            ]
          },
          "metadata": {
            "tags": [],
            "needs_background": "light"
          }
        }
      ]
    },
    {
      "cell_type": "code",
      "metadata": {
        "id": "3d1kml05el1C",
        "colab_type": "code",
        "colab": {}
      },
      "source": [
        "X = data[data.columns[data.columns != 'Outcome']]\n",
        "y = data['Outcome']"
      ],
      "execution_count": 0,
      "outputs": []
    },
    {
      "cell_type": "code",
      "metadata": {
        "id": "yma0A0z4eF-G",
        "colab_type": "code",
        "colab": {}
      },
      "source": [
        "from sklearn.model_selection import train_test_split\n",
        "X_train, X_test, y_train, y_test = train_test_split(X, y, test_size=0.30, random_state=42)"
      ],
      "execution_count": 0,
      "outputs": []
    },
    {
      "cell_type": "code",
      "metadata": {
        "id": "UeGUu2lge8O5",
        "colab_type": "code",
        "colab": {
          "base_uri": "https://localhost:8080/",
          "height": 35
        },
        "outputId": "03b155e3-b197-4bcf-de56-4dab87c9f96e"
      },
      "source": [
        "X_train.shape"
      ],
      "execution_count": 68,
      "outputs": [
        {
          "output_type": "execute_result",
          "data": {
            "text/plain": [
              "(537, 8)"
            ]
          },
          "metadata": {
            "tags": []
          },
          "execution_count": 68
        }
      ]
    },
    {
      "cell_type": "code",
      "metadata": {
        "id": "Kt900dE4e-qx",
        "colab_type": "code",
        "colab": {
          "base_uri": "https://localhost:8080/",
          "height": 35
        },
        "outputId": "7ca421d5-d8b1-478c-ed2a-e00bb40fe0e0"
      },
      "source": [
        "X_test.shape"
      ],
      "execution_count": 69,
      "outputs": [
        {
          "output_type": "execute_result",
          "data": {
            "text/plain": [
              "(231, 8)"
            ]
          },
          "metadata": {
            "tags": []
          },
          "execution_count": 69
        }
      ]
    },
    {
      "cell_type": "code",
      "metadata": {
        "id": "w-UmfpHsfa_6",
        "colab_type": "code",
        "colab": {}
      },
      "source": [
        "ncols = X_train.shape[1]"
      ],
      "execution_count": 0,
      "outputs": []
    },
    {
      "cell_type": "code",
      "metadata": {
        "id": "eO17zhljfCI8",
        "colab_type": "code",
        "colab": {}
      },
      "source": [
        "import keras\n",
        "\n",
        "from keras.models import Sequential\n",
        "from keras.layers import Dense\n",
        "from keras.utils import to_categorical"
      ],
      "execution_count": 0,
      "outputs": []
    },
    {
      "cell_type": "code",
      "metadata": {
        "id": "UWCjH2rHj8e_",
        "colab_type": "code",
        "colab": {
          "base_uri": "https://localhost:8080/",
          "height": 35
        },
        "outputId": "112486e2-af01-4020-d1eb-050399d3f198"
      },
      "source": [
        "y_train = to_categorical(y_train)\n",
        "y_test = to_categorical(y_test)\n",
        "\n",
        "num_classes = y_test.shape[1]\n",
        "print(num_classes)"
      ],
      "execution_count": 72,
      "outputs": [
        {
          "output_type": "stream",
          "text": [
            "2\n"
          ],
          "name": "stdout"
        }
      ]
    },
    {
      "cell_type": "code",
      "metadata": {
        "id": "BbEkQ1YlfSOq",
        "colab_type": "code",
        "colab": {}
      },
      "source": [
        "# define classification model\n",
        "def classification_model():\n",
        "    # create model\n",
        "    model = Sequential()\n",
        "    model.add(Dense(8, activation='relu', input_shape=(8,)))\n",
        "    model.add(Dense(100, activation='relu'))\n",
        "    model.add(Dense(100, activation='relu'))\n",
        "    model.add(Dense(100, activation='relu'))\n",
        "    model.add(Dense(num_classes, activation='softmax'))\n",
        "    \n",
        "    \n",
        "    # compile model\n",
        "    model.compile(optimizer='adam', loss='categorical_crossentropy', metrics=['accuracy'])\n",
        "    return model"
      ],
      "execution_count": 0,
      "outputs": []
    },
    {
      "cell_type": "code",
      "metadata": {
        "id": "kusaLeSEfxUS",
        "colab_type": "code",
        "colab": {
          "base_uri": "https://localhost:8080/",
          "height": 1000
        },
        "outputId": "ff35b510-871a-4c1c-8bf5-2cef8ebc8395"
      },
      "source": [
        "model = classification_model()\n",
        "\n",
        "# fit the model\n",
        "model.fit(X_train, y_train, validation_data=(X_test, y_test), epochs=100, verbose=1)\n",
        "\n",
        "# evaluate the model\n",
        "scores = model.evaluate(X_test, y_test, verbose=0)"
      ],
      "execution_count": 89,
      "outputs": [
        {
          "output_type": "stream",
          "text": [
            "Train on 537 samples, validate on 231 samples\n",
            "Epoch 1/100\n",
            "537/537 [==============================] - 0s 309us/step - loss: 1.8772 - accuracy: 0.5680 - val_loss: 0.9981 - val_accuracy: 0.6061\n",
            "Epoch 2/100\n",
            "537/537 [==============================] - 0s 78us/step - loss: 1.0400 - accuracy: 0.6127 - val_loss: 0.8865 - val_accuracy: 0.4502\n",
            "Epoch 3/100\n",
            "537/537 [==============================] - 0s 77us/step - loss: 0.7219 - accuracy: 0.6350 - val_loss: 0.8743 - val_accuracy: 0.6017\n",
            "Epoch 4/100\n",
            "537/537 [==============================] - 0s 74us/step - loss: 0.7534 - accuracy: 0.5885 - val_loss: 0.7412 - val_accuracy: 0.6710\n",
            "Epoch 5/100\n",
            "537/537 [==============================] - 0s 72us/step - loss: 0.7548 - accuracy: 0.6480 - val_loss: 0.6898 - val_accuracy: 0.6407\n",
            "Epoch 6/100\n",
            "537/537 [==============================] - 0s 76us/step - loss: 0.7130 - accuracy: 0.6257 - val_loss: 0.6970 - val_accuracy: 0.6537\n",
            "Epoch 7/100\n",
            "537/537 [==============================] - 0s 73us/step - loss: 0.6904 - accuracy: 0.6574 - val_loss: 0.6507 - val_accuracy: 0.6407\n",
            "Epoch 8/100\n",
            "537/537 [==============================] - 0s 72us/step - loss: 0.7524 - accuracy: 0.6108 - val_loss: 1.0659 - val_accuracy: 0.4329\n",
            "Epoch 9/100\n",
            "537/537 [==============================] - 0s 72us/step - loss: 0.6635 - accuracy: 0.6760 - val_loss: 0.6646 - val_accuracy: 0.6364\n",
            "Epoch 10/100\n",
            "537/537 [==============================] - 0s 71us/step - loss: 0.6122 - accuracy: 0.6648 - val_loss: 0.6462 - val_accuracy: 0.6580\n",
            "Epoch 11/100\n",
            "537/537 [==============================] - 0s 70us/step - loss: 0.6700 - accuracy: 0.6313 - val_loss: 0.8783 - val_accuracy: 0.5628\n",
            "Epoch 12/100\n",
            "537/537 [==============================] - 0s 75us/step - loss: 0.7120 - accuracy: 0.6220 - val_loss: 0.6580 - val_accuracy: 0.6537\n",
            "Epoch 13/100\n",
            "537/537 [==============================] - 0s 75us/step - loss: 0.6191 - accuracy: 0.6797 - val_loss: 0.7019 - val_accuracy: 0.6797\n",
            "Epoch 14/100\n",
            "537/537 [==============================] - 0s 70us/step - loss: 0.6589 - accuracy: 0.6555 - val_loss: 0.6849 - val_accuracy: 0.6797\n",
            "Epoch 15/100\n",
            "537/537 [==============================] - 0s 73us/step - loss: 0.6153 - accuracy: 0.6574 - val_loss: 0.6387 - val_accuracy: 0.6840\n",
            "Epoch 16/100\n",
            "537/537 [==============================] - 0s 85us/step - loss: 0.7151 - accuracy: 0.6462 - val_loss: 0.7031 - val_accuracy: 0.5758\n",
            "Epoch 17/100\n",
            "537/537 [==============================] - 0s 89us/step - loss: 0.6643 - accuracy: 0.6220 - val_loss: 0.6695 - val_accuracy: 0.5801\n",
            "Epoch 18/100\n",
            "537/537 [==============================] - 0s 86us/step - loss: 0.6293 - accuracy: 0.6723 - val_loss: 0.6473 - val_accuracy: 0.6710\n",
            "Epoch 19/100\n",
            "537/537 [==============================] - 0s 84us/step - loss: 0.6379 - accuracy: 0.6592 - val_loss: 0.6475 - val_accuracy: 0.6537\n",
            "Epoch 20/100\n",
            "537/537 [==============================] - 0s 83us/step - loss: 0.6174 - accuracy: 0.6741 - val_loss: 0.6587 - val_accuracy: 0.6320\n",
            "Epoch 21/100\n",
            "537/537 [==============================] - 0s 73us/step - loss: 0.6893 - accuracy: 0.6220 - val_loss: 0.7064 - val_accuracy: 0.6667\n",
            "Epoch 22/100\n",
            "537/537 [==============================] - 0s 74us/step - loss: 0.6528 - accuracy: 0.6797 - val_loss: 0.6766 - val_accuracy: 0.6061\n",
            "Epoch 23/100\n",
            "537/537 [==============================] - 0s 73us/step - loss: 0.6079 - accuracy: 0.6853 - val_loss: 0.7163 - val_accuracy: 0.5541\n",
            "Epoch 24/100\n",
            "537/537 [==============================] - 0s 71us/step - loss: 0.7368 - accuracy: 0.6089 - val_loss: 0.8166 - val_accuracy: 0.6104\n",
            "Epoch 25/100\n",
            "537/537 [==============================] - 0s 75us/step - loss: 0.7531 - accuracy: 0.6257 - val_loss: 0.6527 - val_accuracy: 0.6840\n",
            "Epoch 26/100\n",
            "537/537 [==============================] - 0s 69us/step - loss: 0.7454 - accuracy: 0.6425 - val_loss: 0.8688 - val_accuracy: 0.5974\n",
            "Epoch 27/100\n",
            "537/537 [==============================] - 0s 102us/step - loss: 0.8154 - accuracy: 0.6499 - val_loss: 0.7384 - val_accuracy: 0.6667\n",
            "Epoch 28/100\n",
            "537/537 [==============================] - 0s 100us/step - loss: 0.6147 - accuracy: 0.6872 - val_loss: 0.6316 - val_accuracy: 0.6840\n",
            "Epoch 29/100\n",
            "537/537 [==============================] - 0s 94us/step - loss: 0.5977 - accuracy: 0.6927 - val_loss: 0.6732 - val_accuracy: 0.6840\n",
            "Epoch 30/100\n",
            "537/537 [==============================] - 0s 83us/step - loss: 0.6282 - accuracy: 0.6909 - val_loss: 0.6238 - val_accuracy: 0.6926\n",
            "Epoch 31/100\n",
            "537/537 [==============================] - 0s 72us/step - loss: 0.5809 - accuracy: 0.7095 - val_loss: 0.6322 - val_accuracy: 0.6753\n",
            "Epoch 32/100\n",
            "537/537 [==============================] - 0s 71us/step - loss: 0.5790 - accuracy: 0.6983 - val_loss: 0.6514 - val_accuracy: 0.6797\n",
            "Epoch 33/100\n",
            "537/537 [==============================] - 0s 70us/step - loss: 0.5868 - accuracy: 0.6965 - val_loss: 0.6173 - val_accuracy: 0.6883\n",
            "Epoch 34/100\n",
            "537/537 [==============================] - 0s 73us/step - loss: 0.5937 - accuracy: 0.7151 - val_loss: 0.7245 - val_accuracy: 0.6537\n",
            "Epoch 35/100\n",
            "537/537 [==============================] - 0s 69us/step - loss: 0.5943 - accuracy: 0.7020 - val_loss: 0.6204 - val_accuracy: 0.6710\n",
            "Epoch 36/100\n",
            "537/537 [==============================] - 0s 75us/step - loss: 0.5776 - accuracy: 0.6983 - val_loss: 0.6917 - val_accuracy: 0.6753\n",
            "Epoch 37/100\n",
            "537/537 [==============================] - 0s 76us/step - loss: 0.5619 - accuracy: 0.7039 - val_loss: 0.6918 - val_accuracy: 0.6710\n",
            "Epoch 38/100\n",
            "537/537 [==============================] - 0s 74us/step - loss: 0.6019 - accuracy: 0.6890 - val_loss: 0.6136 - val_accuracy: 0.7013\n",
            "Epoch 39/100\n",
            "537/537 [==============================] - 0s 84us/step - loss: 0.5474 - accuracy: 0.7076 - val_loss: 0.6688 - val_accuracy: 0.6667\n",
            "Epoch 40/100\n",
            "537/537 [==============================] - 0s 72us/step - loss: 0.5938 - accuracy: 0.6890 - val_loss: 0.6239 - val_accuracy: 0.6926\n",
            "Epoch 41/100\n",
            "537/537 [==============================] - 0s 72us/step - loss: 0.5505 - accuracy: 0.7337 - val_loss: 0.6220 - val_accuracy: 0.6926\n",
            "Epoch 42/100\n",
            "537/537 [==============================] - 0s 76us/step - loss: 0.5523 - accuracy: 0.7281 - val_loss: 0.6807 - val_accuracy: 0.6450\n",
            "Epoch 43/100\n",
            "537/537 [==============================] - 0s 71us/step - loss: 0.5637 - accuracy: 0.7076 - val_loss: 0.8338 - val_accuracy: 0.6797\n",
            "Epoch 44/100\n",
            "537/537 [==============================] - 0s 76us/step - loss: 0.6289 - accuracy: 0.6927 - val_loss: 0.6871 - val_accuracy: 0.7100\n",
            "Epoch 45/100\n",
            "537/537 [==============================] - 0s 88us/step - loss: 0.6624 - accuracy: 0.6965 - val_loss: 0.6587 - val_accuracy: 0.6623\n",
            "Epoch 46/100\n",
            "537/537 [==============================] - 0s 74us/step - loss: 0.5724 - accuracy: 0.6909 - val_loss: 0.7338 - val_accuracy: 0.6710\n",
            "Epoch 47/100\n",
            "537/537 [==============================] - 0s 73us/step - loss: 0.5800 - accuracy: 0.6983 - val_loss: 0.6547 - val_accuracy: 0.6926\n",
            "Epoch 48/100\n",
            "537/537 [==============================] - 0s 74us/step - loss: 0.5479 - accuracy: 0.7225 - val_loss: 0.6323 - val_accuracy: 0.7100\n",
            "Epoch 49/100\n",
            "537/537 [==============================] - 0s 75us/step - loss: 0.5497 - accuracy: 0.7058 - val_loss: 0.6428 - val_accuracy: 0.6926\n",
            "Epoch 50/100\n",
            "537/537 [==============================] - 0s 73us/step - loss: 0.5354 - accuracy: 0.7430 - val_loss: 0.6871 - val_accuracy: 0.6667\n",
            "Epoch 51/100\n",
            "537/537 [==============================] - 0s 72us/step - loss: 0.5918 - accuracy: 0.6927 - val_loss: 0.6765 - val_accuracy: 0.6883\n",
            "Epoch 52/100\n",
            "537/537 [==============================] - 0s 73us/step - loss: 0.5267 - accuracy: 0.7244 - val_loss: 0.6541 - val_accuracy: 0.6753\n",
            "Epoch 53/100\n",
            "537/537 [==============================] - 0s 80us/step - loss: 0.5248 - accuracy: 0.7318 - val_loss: 0.6503 - val_accuracy: 0.6970\n",
            "Epoch 54/100\n",
            "537/537 [==============================] - 0s 79us/step - loss: 0.5395 - accuracy: 0.7300 - val_loss: 0.7201 - val_accuracy: 0.6710\n",
            "Epoch 55/100\n",
            "537/537 [==============================] - 0s 72us/step - loss: 0.5492 - accuracy: 0.7244 - val_loss: 0.6724 - val_accuracy: 0.7013\n",
            "Epoch 56/100\n",
            "537/537 [==============================] - 0s 72us/step - loss: 0.5206 - accuracy: 0.7207 - val_loss: 0.6718 - val_accuracy: 0.7186\n",
            "Epoch 57/100\n",
            "537/537 [==============================] - 0s 74us/step - loss: 0.5555 - accuracy: 0.7374 - val_loss: 0.6878 - val_accuracy: 0.6926\n",
            "Epoch 58/100\n",
            "537/537 [==============================] - 0s 73us/step - loss: 0.5316 - accuracy: 0.7114 - val_loss: 0.8057 - val_accuracy: 0.6753\n",
            "Epoch 59/100\n",
            "537/537 [==============================] - 0s 71us/step - loss: 0.5665 - accuracy: 0.7337 - val_loss: 0.6781 - val_accuracy: 0.7013\n",
            "Epoch 60/100\n",
            "537/537 [==============================] - 0s 74us/step - loss: 0.5213 - accuracy: 0.7300 - val_loss: 0.7298 - val_accuracy: 0.6797\n",
            "Epoch 61/100\n",
            "537/537 [==============================] - 0s 74us/step - loss: 0.5678 - accuracy: 0.6946 - val_loss: 0.7115 - val_accuracy: 0.6883\n",
            "Epoch 62/100\n",
            "537/537 [==============================] - 0s 70us/step - loss: 0.5603 - accuracy: 0.7188 - val_loss: 0.6990 - val_accuracy: 0.6970\n",
            "Epoch 63/100\n",
            "537/537 [==============================] - 0s 76us/step - loss: 0.5276 - accuracy: 0.7356 - val_loss: 0.6832 - val_accuracy: 0.6797\n",
            "Epoch 64/100\n",
            "537/537 [==============================] - 0s 67us/step - loss: 0.5129 - accuracy: 0.7467 - val_loss: 0.6884 - val_accuracy: 0.7056\n",
            "Epoch 65/100\n",
            "537/537 [==============================] - 0s 72us/step - loss: 0.5001 - accuracy: 0.7616 - val_loss: 0.7275 - val_accuracy: 0.7013\n",
            "Epoch 66/100\n",
            "537/537 [==============================] - 0s 78us/step - loss: 0.5510 - accuracy: 0.7188 - val_loss: 0.7481 - val_accuracy: 0.7316\n",
            "Epoch 67/100\n",
            "537/537 [==============================] - 0s 74us/step - loss: 0.5335 - accuracy: 0.7374 - val_loss: 0.6944 - val_accuracy: 0.7359\n",
            "Epoch 68/100\n",
            "537/537 [==============================] - 0s 78us/step - loss: 0.5093 - accuracy: 0.7523 - val_loss: 0.7154 - val_accuracy: 0.6970\n",
            "Epoch 69/100\n",
            "537/537 [==============================] - 0s 73us/step - loss: 0.5473 - accuracy: 0.7318 - val_loss: 0.6831 - val_accuracy: 0.6926\n",
            "Epoch 70/100\n",
            "537/537 [==============================] - 0s 73us/step - loss: 0.5095 - accuracy: 0.7393 - val_loss: 0.7209 - val_accuracy: 0.6970\n",
            "Epoch 71/100\n",
            "537/537 [==============================] - 0s 73us/step - loss: 0.5002 - accuracy: 0.7598 - val_loss: 0.7080 - val_accuracy: 0.7056\n",
            "Epoch 72/100\n",
            "537/537 [==============================] - 0s 71us/step - loss: 0.4910 - accuracy: 0.7523 - val_loss: 0.7154 - val_accuracy: 0.7100\n",
            "Epoch 73/100\n",
            "537/537 [==============================] - 0s 72us/step - loss: 0.5160 - accuracy: 0.7263 - val_loss: 0.6986 - val_accuracy: 0.7013\n",
            "Epoch 74/100\n",
            "537/537 [==============================] - 0s 72us/step - loss: 0.4984 - accuracy: 0.7598 - val_loss: 0.7192 - val_accuracy: 0.7056\n",
            "Epoch 75/100\n",
            "537/537 [==============================] - 0s 75us/step - loss: 0.5158 - accuracy: 0.7505 - val_loss: 0.7494 - val_accuracy: 0.6450\n",
            "Epoch 76/100\n",
            "537/537 [==============================] - 0s 73us/step - loss: 0.5456 - accuracy: 0.7114 - val_loss: 0.7245 - val_accuracy: 0.6753\n",
            "Epoch 77/100\n",
            "537/537 [==============================] - 0s 75us/step - loss: 0.5120 - accuracy: 0.7449 - val_loss: 0.6792 - val_accuracy: 0.7273\n",
            "Epoch 78/100\n",
            "537/537 [==============================] - 0s 74us/step - loss: 0.5078 - accuracy: 0.7635 - val_loss: 0.6819 - val_accuracy: 0.7056\n",
            "Epoch 79/100\n",
            "537/537 [==============================] - 0s 89us/step - loss: 0.5043 - accuracy: 0.7561 - val_loss: 0.6928 - val_accuracy: 0.7273\n",
            "Epoch 80/100\n",
            "537/537 [==============================] - 0s 85us/step - loss: 0.5280 - accuracy: 0.7412 - val_loss: 0.7141 - val_accuracy: 0.7013\n",
            "Epoch 81/100\n",
            "537/537 [==============================] - 0s 84us/step - loss: 0.5049 - accuracy: 0.7393 - val_loss: 0.7932 - val_accuracy: 0.6753\n",
            "Epoch 82/100\n",
            "537/537 [==============================] - 0s 86us/step - loss: 0.5336 - accuracy: 0.7505 - val_loss: 0.6953 - val_accuracy: 0.6970\n",
            "Epoch 83/100\n",
            "537/537 [==============================] - 0s 73us/step - loss: 0.4983 - accuracy: 0.7523 - val_loss: 0.7580 - val_accuracy: 0.6970\n",
            "Epoch 84/100\n",
            "537/537 [==============================] - 0s 75us/step - loss: 0.5058 - accuracy: 0.7505 - val_loss: 0.7179 - val_accuracy: 0.7273\n",
            "Epoch 85/100\n",
            "537/537 [==============================] - 0s 84us/step - loss: 0.5046 - accuracy: 0.7505 - val_loss: 0.7012 - val_accuracy: 0.7056\n",
            "Epoch 86/100\n",
            "537/537 [==============================] - 0s 85us/step - loss: 0.4985 - accuracy: 0.7561 - val_loss: 0.7122 - val_accuracy: 0.7056\n",
            "Epoch 87/100\n",
            "537/537 [==============================] - 0s 97us/step - loss: 0.5059 - accuracy: 0.7542 - val_loss: 0.7027 - val_accuracy: 0.7186\n",
            "Epoch 88/100\n",
            "537/537 [==============================] - 0s 85us/step - loss: 0.4899 - accuracy: 0.7728 - val_loss: 0.7169 - val_accuracy: 0.7056\n",
            "Epoch 89/100\n",
            "537/537 [==============================] - 0s 86us/step - loss: 0.4854 - accuracy: 0.7691 - val_loss: 0.7210 - val_accuracy: 0.7143\n",
            "Epoch 90/100\n",
            "537/537 [==============================] - 0s 89us/step - loss: 0.5084 - accuracy: 0.7318 - val_loss: 0.7234 - val_accuracy: 0.7013\n",
            "Epoch 91/100\n",
            "537/537 [==============================] - 0s 79us/step - loss: 0.4969 - accuracy: 0.7747 - val_loss: 0.7503 - val_accuracy: 0.6970\n",
            "Epoch 92/100\n",
            "537/537 [==============================] - 0s 72us/step - loss: 0.4884 - accuracy: 0.7672 - val_loss: 0.7109 - val_accuracy: 0.7229\n",
            "Epoch 93/100\n",
            "537/537 [==============================] - 0s 74us/step - loss: 0.4802 - accuracy: 0.7598 - val_loss: 0.7496 - val_accuracy: 0.7056\n",
            "Epoch 94/100\n",
            "537/537 [==============================] - 0s 73us/step - loss: 0.4793 - accuracy: 0.7728 - val_loss: 0.7492 - val_accuracy: 0.7100\n",
            "Epoch 95/100\n",
            "537/537 [==============================] - 0s 74us/step - loss: 0.4965 - accuracy: 0.7672 - val_loss: 0.7712 - val_accuracy: 0.6970\n",
            "Epoch 96/100\n",
            "537/537 [==============================] - 0s 79us/step - loss: 0.4877 - accuracy: 0.7765 - val_loss: 0.7452 - val_accuracy: 0.7056\n",
            "Epoch 97/100\n",
            "537/537 [==============================] - 0s 86us/step - loss: 0.4938 - accuracy: 0.7635 - val_loss: 0.7283 - val_accuracy: 0.7229\n",
            "Epoch 98/100\n",
            "537/537 [==============================] - 0s 76us/step - loss: 0.4740 - accuracy: 0.7747 - val_loss: 0.7466 - val_accuracy: 0.7186\n",
            "Epoch 99/100\n",
            "537/537 [==============================] - 0s 76us/step - loss: 0.4795 - accuracy: 0.7616 - val_loss: 0.7472 - val_accuracy: 0.7186\n",
            "Epoch 100/100\n",
            "537/537 [==============================] - 0s 72us/step - loss: 0.4726 - accuracy: 0.7598 - val_loss: 0.7515 - val_accuracy: 0.7056\n"
          ],
          "name": "stdout"
        }
      ]
    },
    {
      "cell_type": "code",
      "metadata": {
        "id": "VNk3gCXtf6Mi",
        "colab_type": "code",
        "colab": {
          "base_uri": "https://localhost:8080/",
          "height": 52
        },
        "outputId": "48d0cde4-9ea8-4c99-cc62-cc7a750b8c5c"
      },
      "source": [
        "print('Accuracy: {}% \\n Error: {}'.format(round(scores[1]*100,2), round(1 - scores[1],4)))     "
      ],
      "execution_count": 90,
      "outputs": [
        {
          "output_type": "stream",
          "text": [
            "Accuracy: 70.56% \n",
            " Error: 0.2944\n"
          ],
          "name": "stdout"
        }
      ]
    },
    {
      "cell_type": "code",
      "metadata": {
        "id": "pYSRctrBltD9",
        "colab_type": "code",
        "colab": {}
      },
      "source": [
        ""
      ],
      "execution_count": 0,
      "outputs": []
    }
  ]
}